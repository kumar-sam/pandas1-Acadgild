{
 "cells": [
  {
   "cell_type": "code",
   "execution_count": 13,
   "metadata": {},
   "outputs": [
    {
     "name": "stdout",
     "output_type": "stream",
     "text": [
      "   X  Y\n",
      "0  7  1\n",
      "1  2  2\n",
      "2  0  0\n",
      "3  3  1\n",
      "4  4  2\n",
      "5  2  3\n",
      "6  5  4\n",
      "7  0  0\n",
      "8  3  1\n",
      "9  4  2\n"
     ]
    }
   ],
   "source": [
    "# Assignment 8.1\n",
    "\"\"\"\n",
    "A simple program which implement count-distance-to-the-previous-zero\n",
    "\n",
    "case 1:have previous zeros\n",
    "    if(distance from the previous zero<distance from the start of the Series)\n",
    "      --->print distance from the previous zero\n",
    "    else  \n",
    "      --->print distance from the start of the Serie\n",
    "case 2:no previous zeros\n",
    "      --->print position\n",
    "\"\"\"\n",
    "import pandas as pd\n",
    "df=pd.DataFrame({\n",
    "    'X':[7, 2, 0, 3, 4, 2, 5, 0, 3, 4]\n",
    "})\n",
    "inp=df.iloc[:,0].values #extracted from dataframe df\n",
    "out=[] #corresponding output will be stored in this list\n",
    "def count_distance_to_the_previous_zero():\n",
    "    prev_zero_index=-1\n",
    "    counter=0\n",
    "    while(counter<len(inp)):\n",
    "        if(prev_zero_index!=-1):#case 1:have previous zeros\n",
    "            if(inp[counter]==0):#if current index value is 0\n",
    "                prev_zero_index=counter\n",
    "                out.append(0)  #append 0 to corresponding output index\n",
    "                counter=counter+1 #increment counter\n",
    "                continue\n",
    "            if((counter-prev_zero_index)<counter):#if(distance from the previous zero < distance from the start of the Series)\n",
    "                out.append(counter-prev_zero_index) #append distance from the previous zero\n",
    "                counter=counter+1 #increment counter\n",
    "            else:\n",
    "                out.append(counter) #append distance from the start of the Series\n",
    "                counter=counter+1 #increment counter\n",
    "        else:  #case 1:don't have have previous zeros\n",
    "            if(inp[counter]==0): #if current index value is 0\n",
    "                prev_zero_index=counter\n",
    "                out.append(0) #append 0 to corresponding output index\n",
    "                counter=counter+1 #increment counter\n",
    "                continue\n",
    "            out.append(counter-prev_zero_index) #append position  \n",
    "            counter=counter+1 #increment counter\n",
    "            \n",
    "count_distance_to_the_previous_zero() #calling the function\n",
    "df['Y'] =out\n",
    "print(df.iloc[:,:])"
   ]
  },
  {
   "cell_type": "code",
   "execution_count": 130,
   "metadata": {},
   "outputs": [
    {
     "name": "stdout",
     "output_type": "stream",
     "text": [
      "             s\n",
      "bdate         \n",
      "2015-01-01  18\n",
      "2015-01-02  11\n",
      "2015-01-05  11\n",
      "2015-01-06   5\n",
      "2015-01-07  12\n"
     ]
    }
   ],
   "source": [
    "# Assignment 8.2\n",
    "\"\"\"\n",
    "A simple program in python for creating a DatetimeIndex that contains each business day of 2015 and use it to index a\n",
    "Series of random numbers.\n",
    "\"\"\"\n",
    "import numpy as np\n",
    "import pandas as pd\n",
    "DatetimeIndex=pd.bdate_range(start='1/1/2015',end='31/12/2015') #DatetimeIndex list which contain all business day\n",
    "bdateseries=pd.Series(DatetimeIndex) #convert list to series\n",
    "randnoseries=pd.Series(np.random.randint(1,20,len(DatetimeIndex))) #randnoseries series which contain random numbers\n",
    "df=pd.DataFrame(dict(bdate=bdateseries,s=randnoseries)) #creating a data frame for 2 columns\n",
    "df.set_index('bdate',inplace=True)  #set bdate as the index for dataframe\n",
    "print(df.head()) #printing the head of data frame"
   ]
  },
  {
   "cell_type": "code",
   "execution_count": null,
   "metadata": {},
   "outputs": [],
   "source": []
  },
  {
   "cell_type": "code",
   "execution_count": null,
   "metadata": {},
   "outputs": [],
   "source": []
  },
  {
   "cell_type": "code",
   "execution_count": 129,
   "metadata": {},
   "outputs": [
    {
     "name": "stdout",
     "output_type": "stream",
     "text": [
      "the sum of the values in s for every Wednesday is 6838\n"
     ]
    }
   ],
   "source": [
    "# Assignment 8.3\n",
    "\"\"\"\n",
    "A simple program in python to find the sum of the values in s for every Wednesday for above data frame\n",
    "\n",
    "\"\"\"\n",
    "df=pd.DataFrame(dict(bdate=bdateseries,s=randnoseries)) #creating a dataframe with default index\n",
    "df.set_index('bdate',inplace=True) #replacing the default index with the bdate\n",
    "\n",
    "wed_index=np.where(df.index.dayofweek==2) #getting the index for bdate which is wednesday\n",
    "index_sec=np.arange(0,len(DatetimeIndex),1) #creating a list [0,1,2,.....260]\n",
    "\n",
    "df['new_index']=index_sec #adding list index_sec in the df\n",
    "df.set_index('new_index',inplace=False) #make new_index as the index of df\n",
    "\n",
    "sum_val=sum(df.iloc[wed_index[0],1].values) #summing value of s on indexes which has wednesday as business day\n",
    "print(\"the sum of the values in s for every Wednesday is\",sum_val) #printing the value"
   ]
  },
  {
   "cell_type": "code",
   "execution_count": null,
   "metadata": {},
   "outputs": [],
   "source": []
  },
  {
   "cell_type": "code",
   "execution_count": null,
   "metadata": {},
   "outputs": [],
   "source": []
  },
  {
   "cell_type": "code",
   "execution_count": null,
   "metadata": {},
   "outputs": [],
   "source": []
  },
  {
   "cell_type": "code",
   "execution_count": null,
   "metadata": {},
   "outputs": [],
   "source": []
  },
  {
   "cell_type": "code",
   "execution_count": 252,
   "metadata": {},
   "outputs": [
    {
     "name": "stdout",
     "output_type": "stream",
     "text": [
      "[9.272727272727273, 11.55, 11.454545454545455, 10.363636363636363, 9.666666666666666, 10.227272727272727, 10.304347826086957, 10.238095238095237, 9.136363636363637, 9.954545454545455, 7.190476190476191, 10.826086956521738]\n"
     ]
    }
   ],
   "source": [
    "# Assignment 8.4\n",
    "\"\"\"\n",
    "A simple program in python to find the average For each calendar month\n",
    "\"\"\"\n",
    "df=pd.DataFrame(dict(bdate=bdateseries,s=randnoseries)) #creating a dataframe with default index\n",
    "df.set_index('bdate',inplace=True) #replacing the default index with the bdate\n",
    "avg_by_month=[0,0,0,0,0,0,0,0,0,0,0,0] #will keep data for sum of s value monthly\n",
    "count_by_month=[0,0,0,0,0,0,0,0,0,0,0,0] #will keep count for each month useful to calc average\n",
    "date_list =df.iloc[:,0].index #keep list of DatetimeIndex\n",
    "# print(date_list)\n",
    "\n",
    "for day in date_list:#iterating through whole list\n",
    "    if(day.month):\n",
    "        avg_by_month[day.month-1]=avg_by_month[day.month-1]+df.loc[day,'s'] #summing value of s\n",
    "        count_by_month[day.month-1]=count_by_month[day.month-1]+1 #counting no of s added\n",
    "    \n",
    "counter=0 \n",
    "while(counter<12):\n",
    "    avg_by_month[counter]=avg_by_month[counter]/count_by_month[counter] #calculating s by diving total no of s added\n",
    "    counter=counter+1\n",
    "print(avg_by_month) #print avrage of n monthly wise"
   ]
  },
  {
   "cell_type": "code",
   "execution_count": null,
   "metadata": {},
   "outputs": [],
   "source": []
  },
  {
   "cell_type": "code",
   "execution_count": null,
   "metadata": {},
   "outputs": [],
   "source": []
  },
  {
   "cell_type": "code",
   "execution_count": 254,
   "metadata": {},
   "outputs": [
    {
     "name": "stdout",
     "output_type": "stream",
     "text": [
      "for 1st group of months 1-4 \n",
      " DatetimeIndex(['2015-01-30', '2015-02-25', '2015-04-06', '2015-04-13'], dtype='datetime64[ns]', name='bdate', freq=None)\n",
      "for 2nd group of months 5-8 \n",
      " DatetimeIndex(['2015-06-09', '2015-06-11', '2015-07-23', '2015-08-04'], dtype='datetime64[ns]', name='bdate', freq=None)\n",
      "for 3rd group of months 9-12 \n",
      " DatetimeIndex(['2015-10-20', '2015-11-04', '2015-12-04'], dtype='datetime64[ns]', name='bdate', freq=None)\n"
     ]
    },
    {
     "name": "stderr",
     "output_type": "stream",
     "text": [
      "C:\\Users\\DELL\\Anaconda3\\envs\\ds2\\lib\\site-packages\\ipykernel_launcher.py:25: UserWarning: Boolean Series key will be reindexed to match DataFrame index.\n",
      "C:\\Users\\DELL\\Anaconda3\\envs\\ds2\\lib\\site-packages\\ipykernel_launcher.py:29: UserWarning: Boolean Series key will be reindexed to match DataFrame index.\n",
      "C:\\Users\\DELL\\Anaconda3\\envs\\ds2\\lib\\site-packages\\ipykernel_launcher.py:33: UserWarning: Boolean Series key will be reindexed to match DataFrame index.\n"
     ]
    }
   ],
   "source": [
    "# Assignment 8.5\n",
    "\"\"\"\n",
    "A simple program in python which calculates For each group of four consecutive calendar months in s, find the date on which the\n",
    "highest value occurred.\n",
    "\"\"\"      \n",
    "df=pd.DataFrame(dict(bdate=bdateseries,s=randnoseries)) #creating a dataframe with default index\n",
    "df.set_index('bdate',inplace=True) #replacing the default index with the bdate\n",
    "\n",
    "month_cate=np.zeros(len(DatetimeIndex),dtype='int64') #a list initialized with 0\n",
    "df[\"month_cate\"]=month_cate #adding month_cate as a column in df\n",
    "date_list =df.iloc[:,0].index #keep list of DatetimeIndex\n",
    "\n",
    "for day in date_list:\n",
    "    if(day.month>=1 and day.month<=4): #check for 1st category month\n",
    "        df.loc[day,'month_cate']=0 #setting value of month_cate\n",
    "    if(day.month>=5 and day.month<=8): #check for 2nd category month\n",
    "        df.loc[day,'month_cate']=1  #setting value of month_cate\n",
    "    if(day.month>=9 and day.month<=12): #check for 3rd category month\n",
    "        df.loc[day,'month_cate']=2  #setting value of month_cate\n",
    "groupby_month_categ=df.groupby('month_cate')  #use groupby to groupby month_cate\n",
    "\n",
    "max_s_value=groupby_month_categ.max()  #max value in each category\n",
    "\n",
    "df1=df[df.month_cate==0]\n",
    "df2=df1[df.s==max_s_value.s[0]]\n",
    "print(\"for 1st group of months 1-4 \\n\",df2.index) #date for max s value in category 1\n",
    "\n",
    "df1=df[df.month_cate==1]\n",
    "df2=df1[df.s==max_s_value.s[1]]\n",
    "print(\"for 2nd group of months 5-8 \\n\",df2.index)  #date for max s value in category 2\n",
    "\n",
    "df1=df[df.month_cate==2]\n",
    "df2=df1[df.s==max_s_value.s[2]]\n",
    "print(\"for 3rd group of months 9-12 \\n\",df2.index)  #date for max s value in category 3\n",
    "\n",
    "\n"
   ]
  },
  {
   "cell_type": "code",
   "execution_count": null,
   "metadata": {},
   "outputs": [],
   "source": []
  }
 ],
 "metadata": {
  "kernelspec": {
   "display_name": "Python 3",
   "language": "python",
   "name": "python3"
  },
  "language_info": {
   "codemirror_mode": {
    "name": "ipython",
    "version": 3
   },
   "file_extension": ".py",
   "mimetype": "text/x-python",
   "name": "python",
   "nbconvert_exporter": "python",
   "pygments_lexer": "ipython3",
   "version": "3.6.6"
  }
 },
 "nbformat": 4,
 "nbformat_minor": 2
}
